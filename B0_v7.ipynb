{
  "cells": [
    {
      "cell_type": "markdown",
      "metadata": {
        "id": "qpiJj8ym0v0-"
      },
      "source": [
        "## Imports"
      ]
    },
    {
      "cell_type": "code",
      "execution_count": 1,
      "metadata": {
        "id": "AoilhmYe1b5t"
      },
      "outputs": [
        {
          "name": "stdout",
          "output_type": "stream",
          "text": [
            "WARNING:tensorflow:From c:\\anaconda\\envs\\yolov7-gpu-env\\lib\\site-packages\\keras\\src\\losses.py:2976: The name tf.losses.sparse_softmax_cross_entropy is deprecated. Please use tf.compat.v1.losses.sparse_softmax_cross_entropy instead.\n",
            "\n",
            "Tensorflow version 2.15.1\n"
          ]
        }
      ],
      "source": [
        "import os, re, time, json\n",
        "import PIL.Image, PIL.ImageFont, PIL.ImageDraw\n",
        "import numpy as np\n",
        "try:\n",
        "  # %tensorflow_version only exists in Colab.\n",
        "  %tensorflow_version 2.x\n",
        "except Exception:\n",
        "  pass\n",
        "import tensorflow as tf\n",
        "#from tensorflow.keras.applications.resnet50 import ResNet50\n",
        "from matplotlib import pyplot as plt\n",
        "import tensorflow_datasets as tfds\n",
        "\n",
        "print(\"Tensorflow version \" + tf.__version__)\n",
        "\n",
        "import tensorflow as tf\n",
        "from tensorflow.keras.applications import ResNet50\n",
        "\n",
        "from tensorflow.keras.models import Model, Sequential\n",
        "from tensorflow.keras.layers import Dense, GlobalAveragePooling2D, Dropout\n",
        "from tensorflow.keras.preprocessing.image import ImageDataGenerator\n",
        "from tensorflow.keras.optimizers import Adam\n"
      ]
    },
    {
      "cell_type": "code",
      "execution_count": null,
      "metadata": {},
      "outputs": [],
      "source": []
    },
    {
      "cell_type": "markdown",
      "metadata": {
        "id": "HuG_q_1jkaZ6"
      },
      "source": [
        "## Parameters"
      ]
    },
    {
      "cell_type": "code",
      "execution_count": 2,
      "metadata": {
        "id": "cCpkS9C_H7Tl"
      },
      "outputs": [],
      "source": [
        "\n",
        "IMG_SIZE = 224\n",
        "BATCH_SIZE = 32\n",
        "NUM_CLASSES = 12\n",
        "DATASET_DIR = \"D:\\projects\\Amin_Daghig_carmodel_res50\\model1_classes\""
      ]
    },
    {
      "cell_type": "code",
      "execution_count": 3,
      "metadata": {},
      "outputs": [
        {
          "name": "stdout",
          "output_type": "stream",
          "text": [
            "TF version: 2.15.1\n",
            "Built with CUDA: False\n",
            "GPUs: []\n"
          ]
        }
      ],
      "source": [
        "import tensorflow as tf\n",
        "print(\"TF version:\", tf.__version__)\n",
        "print(\"Built with CUDA:\", tf.test.is_built_with_cuda())\n",
        "print(\"GPUs:\", tf.config.list_physical_devices(\"GPU\"))"
      ]
    },
    {
      "cell_type": "code",
      "execution_count": 4,
      "metadata": {},
      "outputs": [
        {
          "name": "stdout",
          "output_type": "stream",
          "text": [
            "nvcc: NVIDIA (R) Cuda compiler driver\n",
            "Copyright (c) 2005-2023 NVIDIA Corporation\n",
            "Built on Tue_Aug_15_22:09:35_Pacific_Daylight_Time_2023\n",
            "Cuda compilation tools, release 12.2, V12.2.140\n",
            "Build cuda_12.2.r12.2/compiler.33191640_0\n"
          ]
        }
      ],
      "source": [
        "!nvcc --version"
      ]
    },
    {
      "cell_type": "code",
      "execution_count": 5,
      "metadata": {},
      "outputs": [
        {
          "name": "stdout",
          "output_type": "stream",
          "text": [
            "Tue Aug 19 11:12:24 2025       \n",
            "+-----------------------------------------------------------------------------------------+\n",
            "| NVIDIA-SMI 580.97                 Driver Version: 580.97         CUDA Version: 13.0     |\n",
            "+-----------------------------------------+------------------------+----------------------+\n",
            "| GPU  Name                  Driver-Model | Bus-Id          Disp.A | Volatile Uncorr. ECC |\n",
            "| Fan  Temp   Perf          Pwr:Usage/Cap |           Memory-Usage | GPU-Util  Compute M. |\n",
            "|                                         |                        |               MIG M. |\n",
            "|=========================================+========================+======================|\n",
            "|   0  NVIDIA GeForce GTX 1650 ...  WDDM  |   00000000:01:00.0  On |                  N/A |\n",
            "| N/A   49C    P8              4W /   35W |     552MiB /   4096MiB |      1%      Default |\n",
            "|                                         |                        |                  N/A |\n",
            "+-----------------------------------------+------------------------+----------------------+\n",
            "\n",
            "+-----------------------------------------------------------------------------------------+\n",
            "| Processes:                                                                              |\n",
            "|  GPU   GI   CI              PID   Type   Process name                        GPU Memory |\n",
            "|        ID   ID                                                               Usage      |\n",
            "|=========================================================================================|\n",
            "|    0   N/A  N/A            9108    C+G   ..._cw5n1h2txyewy\\SearchHost.exe      N/A      |\n",
            "|    0   N/A  N/A           10500    C+G   ...0.3351.121\\msedgewebview2.exe      N/A      |\n",
            "|    0   N/A  N/A           12900    C+G   C:\\Windows\\explorer.exe               N/A      |\n",
            "|    0   N/A  N/A           13240    C+G   ...y\\StartMenuExperienceHost.exe      N/A      |\n",
            "|    0   N/A  N/A           13332    C+G   ...5n1h2txyewy\\TextInputHost.exe      N/A      |\n",
            "|    0   N/A  N/A           17364    C+G   ...xyewy\\ShellExperienceHost.exe      N/A      |\n",
            "|    0   N/A  N/A           17956    C+G   D:\\heavyApps\\v2rayN\\v2rayN.exe        N/A      |\n",
            "|    0   N/A  N/A           19736    C+G   ...em32\\ApplicationFrameHost.exe      N/A      |\n",
            "|    0   N/A  N/A           20424    C+G   ...yb3d8bbwe\\Notepad\\Notepad.exe      N/A      |\n",
            "|    0   N/A  N/A           27264    C+G   C:\\Windows\\explorer.exe               N/A      |\n",
            "|    0   N/A  N/A           28560    C+G   ...ntrolPanel\\SystemSettings.exe      N/A      |\n",
            "+-----------------------------------------------------------------------------------------+\n"
          ]
        }
      ],
      "source": [
        "!nvidia-smi"
      ]
    },
    {
      "cell_type": "code",
      "execution_count": 4,
      "metadata": {},
      "outputs": [
        {
          "name": "stdout",
          "output_type": "stream",
          "text": [
            "Found 3037 files belonging to 12 classes.\n",
            "Using 2430 files for training.\n",
            "Using 607 files for validation.\n"
          ]
        }
      ],
      "source": [
        "#loading in rgb we can grayscale and do agumentation also\n",
        "\n",
        "(val_ds2 , train_ds2) = tf.keras.utils.image_dataset_from_directory(\n",
        "    DATASET_DIR,\n",
        "    validation_split=0.2,\n",
        "    subset=\"both\",\n",
        "    seed=123,\n",
        "    image_size=(IMG_SIZE, IMG_SIZE),\n",
        "    batch_size=BATCH_SIZE\n",
        ")"
      ]
    },
    {
      "cell_type": "code",
      "execution_count": 5,
      "metadata": {},
      "outputs": [],
      "source": [
        "import numpy as np\n",
        "\n",
        "y_train = np.concatenate([labels.numpy() for _, labels in train_ds2], axis=0)\n"
      ]
    },
    {
      "cell_type": "code",
      "execution_count": 6,
      "metadata": {},
      "outputs": [],
      "source": [
        "from sklearn.utils.class_weight import compute_class_weight\n",
        "\n",
        "class_weights = compute_class_weight(\n",
        "    class_weight=\"balanced\",\n",
        "    classes=np.unique(y_train),\n",
        "    y=y_train\n",
        ")"
      ]
    },
    {
      "cell_type": "code",
      "execution_count": 7,
      "metadata": {},
      "outputs": [
        {
          "name": "stdout",
          "output_type": "stream",
          "text": [
            "{0: 1.806547619047619, 1: 0.5214776632302406, 2: 0.6485042735042735, 3: 0.9367283950617284, 4: 0.6021825396825397, 5: 1.297008547008547, 6: 1.2645833333333334, 7: 2.529166666666667, 8: 1.5328282828282829, 9: 1.631720430107527, 10: 0.6569264069264069, 11: 1.9455128205128205}\n"
          ]
        }
      ],
      "source": [
        "class_weights = dict(zip(np.unique(y_train), class_weights))\n",
        "print(class_weights)"
      ]
    },
    {
      "cell_type": "code",
      "execution_count": null,
      "metadata": {},
      "outputs": [],
      "source": [
        "'''\n",
        "data_augmentation = Sequential([\n",
        "    tf.keras.layers.RandomFlip(\"horizontal\"),\n",
        "    tf.keras.layers.RandomRotation(0.1),\n",
        "    tf.keras.layers.RandomZoom(0.1)\n",
        "])\n",
        "\n",
        "'''\n",
        "\n",
        "\n",
        "data_augmentation = Sequential([\n",
        "    tf.keras.layers.RandomFlip(\"horizontal\"),\n",
        "    tf.keras.layers.RandomRotation(0.3),\n",
        "    tf.keras.layers.RandomContrast(0.3),\n",
        "    tf.keras.layers.RandomBrightness(factor=0.3)\n",
        "])\n"
      ]
    },
    {
      "cell_type": "code",
      "execution_count": 10,
      "metadata": {},
      "outputs": [
        {
          "name": "stdout",
          "output_type": "stream",
          "text": [
            "WARNING:tensorflow:From c:\\anaconda\\envs\\yolov7-gpu-env\\lib\\site-packages\\keras\\src\\layers\\normalization\\batch_normalization.py:979: The name tf.nn.fused_batch_norm is deprecated. Please use tf.compat.v1.nn.fused_batch_norm instead.\n",
            "\n"
          ]
        }
      ],
      "source": [
        "from tensorflow.keras.applications import EfficientNetB0\n",
        "\n",
        "\n",
        "base_model = EfficientNetB0(weights=\"imagenet\", include_top=False, input_shape=(IMG_SIZE, IMG_SIZE, 3))\n",
        "\n",
        "# Freeze base model initially\n",
        "for layer in base_model.layers:\n",
        "    layer.trainable = False\n"
      ]
    },
    {
      "cell_type": "code",
      "execution_count": 11,
      "metadata": {},
      "outputs": [],
      "source": [
        "inputs = base_model.input\n",
        "x = data_augmentation(inputs)               # augmentation before EfficientNet\n",
        "x = base_model(x, training=False)           # pass through EfficientNet\n",
        "x = GlobalAveragePooling2D()(x)\n",
        "x = Dropout(0.4)(x)\n",
        "x = Dense(64, activation=\"relu\")(x)\n",
        "outputs = Dense(NUM_CLASSES, activation=\"softmax\")(x)\n",
        "\n",
        "model = Model(inputs, outputs)"
      ]
    },
    {
      "cell_type": "code",
      "execution_count": null,
      "metadata": {},
      "outputs": [],
      "source": [
        "'''\n",
        "x = base_model.output\n",
        "x = GlobalAveragePooling2D()(x)\n",
        "x = Dropout(0.4)(x)\n",
        "x = tf.keras.layers.Dense(64, activation=\"relu\")(x)\n",
        "predictions = Dense(NUM_CLASSES, activation=\"softmax\")(x)\n",
        "\n",
        "model = Model(inputs=base_model.input, outputs=predictions)\n",
        "'''"
      ]
    },
    {
      "cell_type": "code",
      "execution_count": 12,
      "metadata": {},
      "outputs": [
        {
          "name": "stdout",
          "output_type": "stream",
          "text": [
            "WARNING:tensorflow:From c:\\anaconda\\envs\\yolov7-gpu-env\\lib\\site-packages\\keras\\src\\optimizers\\__init__.py:309: The name tf.train.Optimizer is deprecated. Please use tf.compat.v1.train.Optimizer instead.\n",
            "\n"
          ]
        }
      ],
      "source": [
        "model.compile(optimizer=\"Adam\",\n",
        "              loss=\"sparse_categorical_crossentropy\",\n",
        "              metrics=[\"accuracy\"])"
      ]
    },
    {
      "cell_type": "code",
      "execution_count": 13,
      "metadata": {},
      "outputs": [
        {
          "name": "stdout",
          "output_type": "stream",
          "text": [
            "Epoch 1/10\n",
            "WARNING:tensorflow:From c:\\anaconda\\envs\\yolov7-gpu-env\\lib\\site-packages\\keras\\src\\utils\\tf_utils.py:492: The name tf.ragged.RaggedTensorValue is deprecated. Please use tf.compat.v1.ragged.RaggedTensorValue instead.\n",
            "\n",
            "WARNING:tensorflow:From c:\\anaconda\\envs\\yolov7-gpu-env\\lib\\site-packages\\keras\\src\\engine\\base_layer_utils.py:384: The name tf.executing_eagerly_outside_functions is deprecated. Please use tf.compat.v1.executing_eagerly_outside_functions instead.\n",
            "\n",
            "19/19 [==============================] - 58s 3s/step - loss: 2.5083 - accuracy: 0.0988 - val_loss: 2.3596 - val_accuracy: 0.1959\n",
            "Epoch 2/10\n",
            "19/19 [==============================] - 53s 3s/step - loss: 2.2503 - accuracy: 0.2372 - val_loss: 2.2595 - val_accuracy: 0.2609\n",
            "Epoch 3/10\n",
            "19/19 [==============================] - 52s 3s/step - loss: 2.0150 - accuracy: 0.3213 - val_loss: 2.1332 - val_accuracy: 0.2868\n",
            "Epoch 4/10\n",
            "19/19 [==============================] - 54s 3s/step - loss: 1.8661 - accuracy: 0.3674 - val_loss: 1.9779 - val_accuracy: 0.3630\n",
            "Epoch 5/10\n",
            "19/19 [==============================] - 54s 3s/step - loss: 1.6910 - accuracy: 0.4514 - val_loss: 1.9088 - val_accuracy: 0.3922\n",
            "Epoch 6/10\n",
            "19/19 [==============================] - 54s 3s/step - loss: 1.5770 - accuracy: 0.5124 - val_loss: 1.7937 - val_accuracy: 0.4535\n",
            "Epoch 7/10\n",
            "19/19 [==============================] - 50s 3s/step - loss: 1.4934 - accuracy: 0.5124 - val_loss: 1.6920 - val_accuracy: 0.4720\n",
            "Epoch 8/10\n",
            "19/19 [==============================] - 53s 3s/step - loss: 1.4108 - accuracy: 0.5371 - val_loss: 1.6091 - val_accuracy: 0.4992\n",
            "Epoch 9/10\n",
            "19/19 [==============================] - 56s 3s/step - loss: 1.2730 - accuracy: 0.5684 - val_loss: 1.5928 - val_accuracy: 0.4897\n",
            "Epoch 10/10\n",
            "19/19 [==============================] - 56s 3s/step - loss: 1.2546 - accuracy: 0.5733 - val_loss: 1.5276 - val_accuracy: 0.5395\n"
          ]
        }
      ],
      "source": [
        "history = model.fit(   #no defined LR\n",
        "    train_ds2,\n",
        "    validation_data=val_ds2,\n",
        "    epochs=10,\n",
        "    verbose=1,\n",
        "    class_weight=class_weights\n",
        ")"
      ]
    },
    {
      "cell_type": "code",
      "execution_count": 14,
      "metadata": {},
      "outputs": [],
      "source": [
        "#second stage trasining\n",
        "for layer in base_model.layers[-50:]:\n",
        "    layer.trainable = True\n",
        "\n",
        "model.compile(optimizer=\"Adam\",\n",
        "              loss=\"sparse_categorical_crossentropy\",\n",
        "              metrics=[\"accuracy\"])"
      ]
    },
    {
      "cell_type": "code",
      "execution_count": 16,
      "metadata": {},
      "outputs": [
        {
          "name": "stdout",
          "output_type": "stream",
          "text": [
            "Epoch 1/12\n",
            "19/19 [==============================] - 56s 3s/step - loss: 1.0740 - accuracy: 0.6458 - val_loss: 1.3572 - val_accuracy: 0.5815\n",
            "Epoch 2/12\n",
            "19/19 [==============================] - 57s 3s/step - loss: 0.7575 - accuracy: 0.7644 - val_loss: 1.0537 - val_accuracy: 0.6708\n",
            "Epoch 3/12\n",
            "19/19 [==============================] - 57s 3s/step - loss: 0.6721 - accuracy: 0.7792 - val_loss: 0.9566 - val_accuracy: 0.7111\n",
            "Epoch 4/12\n",
            "19/19 [==============================] - 57s 3s/step - loss: 0.4964 - accuracy: 0.8501 - val_loss: 0.9307 - val_accuracy: 0.7366\n",
            "Epoch 5/12\n",
            "19/19 [==============================] - 57s 3s/step - loss: 0.4553 - accuracy: 0.8567 - val_loss: 0.8810 - val_accuracy: 0.7403\n",
            "Epoch 6/12\n",
            "19/19 [==============================] - 58s 3s/step - loss: 0.3496 - accuracy: 0.8781 - val_loss: 0.8578 - val_accuracy: 0.7560\n",
            "Epoch 7/12\n",
            "19/19 [==============================] - 58s 3s/step - loss: 0.3002 - accuracy: 0.9012 - val_loss: 0.9032 - val_accuracy: 0.7523\n",
            "Epoch 8/12\n",
            "19/19 [==============================] - 57s 3s/step - loss: 0.2509 - accuracy: 0.9094 - val_loss: 0.9429 - val_accuracy: 0.7519\n",
            "Epoch 9/12\n",
            "19/19 [==============================] - 57s 3s/step - loss: 0.2450 - accuracy: 0.9061 - val_loss: 0.8106 - val_accuracy: 0.7782\n",
            "Epoch 10/12\n",
            "19/19 [==============================] - 57s 3s/step - loss: 0.2525 - accuracy: 0.9209 - val_loss: 1.1203 - val_accuracy: 0.7383\n",
            "Epoch 11/12\n",
            "19/19 [==============================] - 57s 3s/step - loss: 0.2566 - accuracy: 0.9242 - val_loss: 0.9126 - val_accuracy: 0.7576\n",
            "Epoch 12/12\n",
            "19/19 [==============================] - 57s 3s/step - loss: 0.2050 - accuracy: 0.9357 - val_loss: 0.9429 - val_accuracy: 0.7527\n"
          ]
        }
      ],
      "source": [
        "history_finetune = model.fit(\n",
        "    train_ds2,\n",
        "    validation_data=val_ds2,\n",
        "    epochs=12,\n",
        "    verbose=1\n",
        ")"
      ]
    },
    {
      "cell_type": "code",
      "execution_count": 17,
      "metadata": {},
      "outputs": [
        {
          "name": "stderr",
          "output_type": "stream",
          "text": [
            "c:\\anaconda\\envs\\yolov7-gpu-env\\lib\\site-packages\\keras\\src\\engine\\training.py:3103: UserWarning: You are saving your model as an HDF5 file via `model.save()`. This file format is considered legacy. We recommend using instead the native Keras format, e.g. `model.save('my_model.keras')`.\n",
            "  saving_api.save_model(\n"
          ]
        }
      ],
      "source": [
        "model.save(\"efficientNetB0_13class_v7.h5\")"
      ]
    }
  ],
  "metadata": {
    "accelerator": "GPU",
    "colab": {
      "machine_shape": "hm",
      "private_outputs": true,
      "provenance": []
    },
    "kernelspec": {
      "display_name": "yolov7-gpu-env",
      "language": "python",
      "name": "python3"
    },
    "language_info": {
      "codemirror_mode": {
        "name": "ipython",
        "version": 3
      },
      "file_extension": ".py",
      "mimetype": "text/x-python",
      "name": "python",
      "nbconvert_exporter": "python",
      "pygments_lexer": "ipython3",
      "version": "3.10.13"
    }
  },
  "nbformat": 4,
  "nbformat_minor": 0
}
